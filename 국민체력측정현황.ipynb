{
 "cells": [
  {
   "cell_type": "markdown",
   "metadata": {},
   "source": [
    "# 국민체력 측정 현황 \n",
    "\n",
    "2019년 9월, 10월, 11월 자료를 합해 분석했다. 해당 근거는 [기사](http://m.hani.co.kr/arti/specialsection/esc_section/910946.html#cb)에 근거한 것으로 3개월마다 측정하는 것이 좋다는 기사를 참고했다.       \n",
    "[seaborn](https://teddylee777.github.io/visualization/seaborn-tutorial-1)참고"
   ]
  },
  {
   "cell_type": "code",
   "execution_count": 1,
   "metadata": {
    "ExecuteTime": {
     "end_time": "2020-10-06T04:52:51.400953Z",
     "start_time": "2020-10-06T04:52:47.303987Z"
    }
   },
   "outputs": [],
   "source": [
    "import pandas as pd \n",
    "import numpy as np \n",
    "\n",
    "import matplotlib.pyplot as plt \n",
    "import seaborn as sns "
   ]
  },
  {
   "cell_type": "code",
   "execution_count": 2,
   "metadata": {
    "ExecuteTime": {
     "end_time": "2020-10-06T04:52:51.412953Z",
     "start_time": "2020-10-06T04:52:51.405953Z"
    }
   },
   "outputs": [
    {
     "name": "stdout",
     "output_type": "stream",
     "text": [
      "['NanumGothic']\n"
     ]
    }
   ],
   "source": [
    "plt.rc('font', family='NanumGothic') # For Windows\n",
    "print(plt.rcParams['font.family'])"
   ]
  },
  {
   "cell_type": "code",
   "execution_count": 3,
   "metadata": {
    "ExecuteTime": {
     "end_time": "2020-10-06T04:52:51.600987Z",
     "start_time": "2020-10-06T04:52:51.414953Z"
    }
   },
   "outputs": [],
   "source": [
    "fit_9 = pd.read_csv('data/KS_NFA_FTNESS_MESURE_STTUS_201909.csv')\n",
    "fit_10 = pd.read_csv('data/KS_NFA_FTNESS_MESURE_STTUS_201910.csv')\n",
    "fit_11 = pd.read_csv('data/국민체력측정_현황_201911.csv')"
   ]
  },
  {
   "cell_type": "code",
   "execution_count": 4,
   "metadata": {
    "ExecuteTime": {
     "end_time": "2020-10-06T04:52:51.629951Z",
     "start_time": "2020-10-06T04:52:51.602952Z"
    }
   },
   "outputs": [
    {
     "name": "stdout",
     "output_type": "stream",
     "text": [
      "2019년 9월 데이터 shape : (28594, 9)\n"
     ]
    },
    {
     "data": {
      "text/html": [
       "<div>\n",
       "<style scoped>\n",
       "    .dataframe tbody tr th:only-of-type {\n",
       "        vertical-align: middle;\n",
       "    }\n",
       "\n",
       "    .dataframe tbody tr th {\n",
       "        vertical-align: top;\n",
       "    }\n",
       "\n",
       "    .dataframe thead th {\n",
       "        text-align: right;\n",
       "    }\n",
       "</style>\n",
       "<table border=\"1\" class=\"dataframe\">\n",
       "  <thead>\n",
       "    <tr style=\"text-align: right;\">\n",
       "      <th></th>\n",
       "      <th>TEST_CNT</th>\n",
       "      <th>CENTER_NM</th>\n",
       "      <th>AGE_GBN</th>\n",
       "      <th>TEST_GBN</th>\n",
       "      <th>TEST_AGE</th>\n",
       "      <th>INPUT_GBN</th>\n",
       "      <th>CERT_GBN</th>\n",
       "      <th>TEST_YMD</th>\n",
       "      <th>TEST_SEX</th>\n",
       "    </tr>\n",
       "  </thead>\n",
       "  <tbody>\n",
       "    <tr>\n",
       "      <th>0</th>\n",
       "      <td>1</td>\n",
       "      <td>금천</td>\n",
       "      <td>성인</td>\n",
       "      <td>일반</td>\n",
       "      <td>25</td>\n",
       "      <td>관리자</td>\n",
       "      <td>참가상</td>\n",
       "      <td>20190902</td>\n",
       "      <td>F</td>\n",
       "    </tr>\n",
       "    <tr>\n",
       "      <th>1</th>\n",
       "      <td>1</td>\n",
       "      <td>오산</td>\n",
       "      <td>노인</td>\n",
       "      <td>출장</td>\n",
       "      <td>87</td>\n",
       "      <td>관리자</td>\n",
       "      <td>참가상</td>\n",
       "      <td>20190902</td>\n",
       "      <td>F</td>\n",
       "    </tr>\n",
       "    <tr>\n",
       "      <th>2</th>\n",
       "      <td>1</td>\n",
       "      <td>오산</td>\n",
       "      <td>노인</td>\n",
       "      <td>출장</td>\n",
       "      <td>88</td>\n",
       "      <td>관리자</td>\n",
       "      <td>동상</td>\n",
       "      <td>20190902</td>\n",
       "      <td>F</td>\n",
       "    </tr>\n",
       "    <tr>\n",
       "      <th>3</th>\n",
       "      <td>1</td>\n",
       "      <td>오산</td>\n",
       "      <td>노인</td>\n",
       "      <td>출장</td>\n",
       "      <td>88</td>\n",
       "      <td>관리자</td>\n",
       "      <td>참가상</td>\n",
       "      <td>20190902</td>\n",
       "      <td>F</td>\n",
       "    </tr>\n",
       "    <tr>\n",
       "      <th>4</th>\n",
       "      <td>7</td>\n",
       "      <td>영동</td>\n",
       "      <td>노인</td>\n",
       "      <td>일반</td>\n",
       "      <td>65</td>\n",
       "      <td>관리자</td>\n",
       "      <td>금상</td>\n",
       "      <td>20190902</td>\n",
       "      <td>F</td>\n",
       "    </tr>\n",
       "  </tbody>\n",
       "</table>\n",
       "</div>"
      ],
      "text/plain": [
       "   TEST_CNT CENTER_NM AGE_GBN TEST_GBN  TEST_AGE INPUT_GBN CERT_GBN  TEST_YMD  \\\n",
       "0         1        금천      성인       일반        25       관리자      참가상  20190902   \n",
       "1         1        오산      노인       출장        87       관리자      참가상  20190902   \n",
       "2         1        오산      노인       출장        88       관리자       동상  20190902   \n",
       "3         1        오산      노인       출장        88       관리자      참가상  20190902   \n",
       "4         7        영동      노인       일반        65       관리자       금상  20190902   \n",
       "\n",
       "  TEST_SEX  \n",
       "0        F  \n",
       "1        F  \n",
       "2        F  \n",
       "3        F  \n",
       "4        F  "
      ]
     },
     "execution_count": 4,
     "metadata": {},
     "output_type": "execute_result"
    }
   ],
   "source": [
    "print(\"2019년 9월 데이터 shape : {}\".format(fit_9.shape))\n",
    "fit_9.head()"
   ]
  },
  {
   "cell_type": "code",
   "execution_count": 5,
   "metadata": {
    "ExecuteTime": {
     "end_time": "2020-10-06T04:52:51.646953Z",
     "start_time": "2020-10-06T04:52:51.631952Z"
    }
   },
   "outputs": [
    {
     "name": "stdout",
     "output_type": "stream",
     "text": [
      "2019년 10월 데이터 shape : (28081, 9)\n"
     ]
    },
    {
     "data": {
      "text/html": [
       "<div>\n",
       "<style scoped>\n",
       "    .dataframe tbody tr th:only-of-type {\n",
       "        vertical-align: middle;\n",
       "    }\n",
       "\n",
       "    .dataframe tbody tr th {\n",
       "        vertical-align: top;\n",
       "    }\n",
       "\n",
       "    .dataframe thead th {\n",
       "        text-align: right;\n",
       "    }\n",
       "</style>\n",
       "<table border=\"1\" class=\"dataframe\">\n",
       "  <thead>\n",
       "    <tr style=\"text-align: right;\">\n",
       "      <th></th>\n",
       "      <th>TEST_CNT</th>\n",
       "      <th>CENTER_NM</th>\n",
       "      <th>AGE_GBN</th>\n",
       "      <th>TEST_GBN</th>\n",
       "      <th>TEST_AGE</th>\n",
       "      <th>INPUT_GBN</th>\n",
       "      <th>CERT_GBN</th>\n",
       "      <th>TEST_YMD</th>\n",
       "      <th>TEST_SEX</th>\n",
       "    </tr>\n",
       "  </thead>\n",
       "  <tbody>\n",
       "    <tr>\n",
       "      <th>0</th>\n",
       "      <td>1</td>\n",
       "      <td>군산</td>\n",
       "      <td>청소년</td>\n",
       "      <td>출장</td>\n",
       "      <td>15</td>\n",
       "      <td>관리자</td>\n",
       "      <td>동상</td>\n",
       "      <td>20191017</td>\n",
       "      <td>M</td>\n",
       "    </tr>\n",
       "    <tr>\n",
       "      <th>1</th>\n",
       "      <td>2</td>\n",
       "      <td>포항</td>\n",
       "      <td>성인</td>\n",
       "      <td>출장</td>\n",
       "      <td>29</td>\n",
       "      <td>관리자</td>\n",
       "      <td>참가상</td>\n",
       "      <td>20191027</td>\n",
       "      <td>F</td>\n",
       "    </tr>\n",
       "    <tr>\n",
       "      <th>2</th>\n",
       "      <td>1</td>\n",
       "      <td>포항</td>\n",
       "      <td>성인</td>\n",
       "      <td>출장</td>\n",
       "      <td>50</td>\n",
       "      <td>관리자</td>\n",
       "      <td>참가상</td>\n",
       "      <td>20191027</td>\n",
       "      <td>F</td>\n",
       "    </tr>\n",
       "    <tr>\n",
       "      <th>3</th>\n",
       "      <td>2</td>\n",
       "      <td>서구(대전)</td>\n",
       "      <td>성인</td>\n",
       "      <td>일반</td>\n",
       "      <td>37</td>\n",
       "      <td>관리자</td>\n",
       "      <td>금상</td>\n",
       "      <td>20191027</td>\n",
       "      <td>F</td>\n",
       "    </tr>\n",
       "    <tr>\n",
       "      <th>4</th>\n",
       "      <td>2</td>\n",
       "      <td>서구(대전)</td>\n",
       "      <td>성인</td>\n",
       "      <td>일반</td>\n",
       "      <td>40</td>\n",
       "      <td>관리자</td>\n",
       "      <td>은상</td>\n",
       "      <td>20191027</td>\n",
       "      <td>M</td>\n",
       "    </tr>\n",
       "  </tbody>\n",
       "</table>\n",
       "</div>"
      ],
      "text/plain": [
       "   TEST_CNT CENTER_NM AGE_GBN TEST_GBN  TEST_AGE INPUT_GBN CERT_GBN  TEST_YMD  \\\n",
       "0         1        군산     청소년       출장        15       관리자       동상  20191017   \n",
       "1         2        포항      성인       출장        29       관리자      참가상  20191027   \n",
       "2         1        포항      성인       출장        50       관리자      참가상  20191027   \n",
       "3         2    서구(대전)      성인       일반        37       관리자       금상  20191027   \n",
       "4         2    서구(대전)      성인       일반        40       관리자       은상  20191027   \n",
       "\n",
       "  TEST_SEX  \n",
       "0        M  \n",
       "1        F  \n",
       "2        F  \n",
       "3        F  \n",
       "4        M  "
      ]
     },
     "execution_count": 5,
     "metadata": {},
     "output_type": "execute_result"
    }
   ],
   "source": [
    "print(\"2019년 10월 데이터 shape : {}\".format(fit_10.shape))\n",
    "fit_10.head()"
   ]
  },
  {
   "cell_type": "code",
   "execution_count": 6,
   "metadata": {
    "ExecuteTime": {
     "end_time": "2020-10-06T04:52:51.667955Z",
     "start_time": "2020-10-06T04:52:51.648952Z"
    }
   },
   "outputs": [
    {
     "name": "stdout",
     "output_type": "stream",
     "text": [
      "2019년 11월 데이터 shape : (29941, 9)\n"
     ]
    },
    {
     "data": {
      "text/html": [
       "<div>\n",
       "<style scoped>\n",
       "    .dataframe tbody tr th:only-of-type {\n",
       "        vertical-align: middle;\n",
       "    }\n",
       "\n",
       "    .dataframe tbody tr th {\n",
       "        vertical-align: top;\n",
       "    }\n",
       "\n",
       "    .dataframe thead th {\n",
       "        text-align: right;\n",
       "    }\n",
       "</style>\n",
       "<table border=\"1\" class=\"dataframe\">\n",
       "  <thead>\n",
       "    <tr style=\"text-align: right;\">\n",
       "      <th></th>\n",
       "      <th>TEST_CNT</th>\n",
       "      <th>CENTER_NM</th>\n",
       "      <th>AGE_GBN</th>\n",
       "      <th>TEST_GBN</th>\n",
       "      <th>TEST_AGE</th>\n",
       "      <th>INPUT_GBN</th>\n",
       "      <th>CERT_GBN</th>\n",
       "      <th>TEST_YMD</th>\n",
       "      <th>TEST_SEX</th>\n",
       "    </tr>\n",
       "  </thead>\n",
       "  <tbody>\n",
       "    <tr>\n",
       "      <th>0</th>\n",
       "      <td>2</td>\n",
       "      <td>영동</td>\n",
       "      <td>성인</td>\n",
       "      <td>NaN</td>\n",
       "      <td>19</td>\n",
       "      <td>NaN</td>\n",
       "      <td>참가상</td>\n",
       "      <td>20191114</td>\n",
       "      <td>F</td>\n",
       "    </tr>\n",
       "    <tr>\n",
       "      <th>1</th>\n",
       "      <td>4</td>\n",
       "      <td>사상</td>\n",
       "      <td>노인</td>\n",
       "      <td>NaN</td>\n",
       "      <td>72</td>\n",
       "      <td>NaN</td>\n",
       "      <td>참가상</td>\n",
       "      <td>20191114</td>\n",
       "      <td>F</td>\n",
       "    </tr>\n",
       "    <tr>\n",
       "      <th>2</th>\n",
       "      <td>4</td>\n",
       "      <td>남구(부산)</td>\n",
       "      <td>청소년</td>\n",
       "      <td>NaN</td>\n",
       "      <td>18</td>\n",
       "      <td>NaN</td>\n",
       "      <td>동상</td>\n",
       "      <td>20191114</td>\n",
       "      <td>M</td>\n",
       "    </tr>\n",
       "    <tr>\n",
       "      <th>3</th>\n",
       "      <td>25</td>\n",
       "      <td>곡성</td>\n",
       "      <td>노인</td>\n",
       "      <td>NaN</td>\n",
       "      <td>70</td>\n",
       "      <td>NaN</td>\n",
       "      <td>금상</td>\n",
       "      <td>20191120</td>\n",
       "      <td>F</td>\n",
       "    </tr>\n",
       "    <tr>\n",
       "      <th>4</th>\n",
       "      <td>2</td>\n",
       "      <td>동작</td>\n",
       "      <td>노인</td>\n",
       "      <td>NaN</td>\n",
       "      <td>65</td>\n",
       "      <td>NaN</td>\n",
       "      <td>참가상</td>\n",
       "      <td>20191120</td>\n",
       "      <td>F</td>\n",
       "    </tr>\n",
       "  </tbody>\n",
       "</table>\n",
       "</div>"
      ],
      "text/plain": [
       "   TEST_CNT CENTER_NM AGE_GBN TEST_GBN  TEST_AGE INPUT_GBN CERT_GBN  TEST_YMD  \\\n",
       "0         2        영동      성인      NaN        19       NaN      참가상  20191114   \n",
       "1         4        사상      노인      NaN        72       NaN      참가상  20191114   \n",
       "2         4    남구(부산)     청소년      NaN        18       NaN       동상  20191114   \n",
       "3        25        곡성      노인      NaN        70       NaN       금상  20191120   \n",
       "4         2        동작      노인      NaN        65       NaN      참가상  20191120   \n",
       "\n",
       "  TEST_SEX  \n",
       "0        F  \n",
       "1        F  \n",
       "2        M  \n",
       "3        F  \n",
       "4        F  "
      ]
     },
     "execution_count": 6,
     "metadata": {},
     "output_type": "execute_result"
    }
   ],
   "source": [
    "print(\"2019년 11월 데이터 shape : {}\".format(fit_11.shape))\n",
    "fit_11.head()"
   ]
  },
  {
   "cell_type": "markdown",
   "metadata": {},
   "source": [
    "# 데이터 프레임 합치기"
   ]
  },
  {
   "cell_type": "code",
   "execution_count": 7,
   "metadata": {
    "ExecuteTime": {
     "end_time": "2020-10-06T04:52:51.719954Z",
     "start_time": "2020-10-06T04:52:51.672996Z"
    }
   },
   "outputs": [
    {
     "name": "stdout",
     "output_type": "stream",
     "text": [
      "합친 데이터 프레임 shape :(86616, 9)\n"
     ]
    },
    {
     "data": {
      "text/html": [
       "<div>\n",
       "<style scoped>\n",
       "    .dataframe tbody tr th:only-of-type {\n",
       "        vertical-align: middle;\n",
       "    }\n",
       "\n",
       "    .dataframe tbody tr th {\n",
       "        vertical-align: top;\n",
       "    }\n",
       "\n",
       "    .dataframe thead th {\n",
       "        text-align: right;\n",
       "    }\n",
       "</style>\n",
       "<table border=\"1\" class=\"dataframe\">\n",
       "  <thead>\n",
       "    <tr style=\"text-align: right;\">\n",
       "      <th></th>\n",
       "      <th>TEST_CNT</th>\n",
       "      <th>CENTER_NM</th>\n",
       "      <th>AGE_GBN</th>\n",
       "      <th>TEST_GBN</th>\n",
       "      <th>TEST_AGE</th>\n",
       "      <th>INPUT_GBN</th>\n",
       "      <th>CERT_GBN</th>\n",
       "      <th>TEST_YMD</th>\n",
       "      <th>TEST_SEX</th>\n",
       "    </tr>\n",
       "  </thead>\n",
       "  <tbody>\n",
       "    <tr>\n",
       "      <th>0</th>\n",
       "      <td>1</td>\n",
       "      <td>금천</td>\n",
       "      <td>성인</td>\n",
       "      <td>일반</td>\n",
       "      <td>25</td>\n",
       "      <td>관리자</td>\n",
       "      <td>참가상</td>\n",
       "      <td>20190902</td>\n",
       "      <td>F</td>\n",
       "    </tr>\n",
       "    <tr>\n",
       "      <th>1</th>\n",
       "      <td>1</td>\n",
       "      <td>오산</td>\n",
       "      <td>노인</td>\n",
       "      <td>출장</td>\n",
       "      <td>87</td>\n",
       "      <td>관리자</td>\n",
       "      <td>참가상</td>\n",
       "      <td>20190902</td>\n",
       "      <td>F</td>\n",
       "    </tr>\n",
       "    <tr>\n",
       "      <th>2</th>\n",
       "      <td>1</td>\n",
       "      <td>오산</td>\n",
       "      <td>노인</td>\n",
       "      <td>출장</td>\n",
       "      <td>88</td>\n",
       "      <td>관리자</td>\n",
       "      <td>동상</td>\n",
       "      <td>20190902</td>\n",
       "      <td>F</td>\n",
       "    </tr>\n",
       "    <tr>\n",
       "      <th>3</th>\n",
       "      <td>1</td>\n",
       "      <td>오산</td>\n",
       "      <td>노인</td>\n",
       "      <td>출장</td>\n",
       "      <td>88</td>\n",
       "      <td>관리자</td>\n",
       "      <td>참가상</td>\n",
       "      <td>20190902</td>\n",
       "      <td>F</td>\n",
       "    </tr>\n",
       "    <tr>\n",
       "      <th>4</th>\n",
       "      <td>7</td>\n",
       "      <td>영동</td>\n",
       "      <td>노인</td>\n",
       "      <td>일반</td>\n",
       "      <td>65</td>\n",
       "      <td>관리자</td>\n",
       "      <td>금상</td>\n",
       "      <td>20190902</td>\n",
       "      <td>F</td>\n",
       "    </tr>\n",
       "  </tbody>\n",
       "</table>\n",
       "</div>"
      ],
      "text/plain": [
       "   TEST_CNT CENTER_NM AGE_GBN TEST_GBN  TEST_AGE INPUT_GBN CERT_GBN  TEST_YMD  \\\n",
       "0         1        금천      성인       일반        25       관리자      참가상  20190902   \n",
       "1         1        오산      노인       출장        87       관리자      참가상  20190902   \n",
       "2         1        오산      노인       출장        88       관리자       동상  20190902   \n",
       "3         1        오산      노인       출장        88       관리자      참가상  20190902   \n",
       "4         7        영동      노인       일반        65       관리자       금상  20190902   \n",
       "\n",
       "  TEST_SEX  \n",
       "0        F  \n",
       "1        F  \n",
       "2        F  \n",
       "3        F  \n",
       "4        F  "
      ]
     },
     "execution_count": 7,
     "metadata": {},
     "output_type": "execute_result"
    }
   ],
   "source": [
    "df = pd.concat([fit_9,fit_10,fit_11])\n",
    "print(\"합친 데이터 프레임 shape :{}\".format(df.shape))\n",
    "df.head()"
   ]
  },
  {
   "cell_type": "code",
   "execution_count": 8,
   "metadata": {
    "ExecuteTime": {
     "end_time": "2020-10-06T04:52:51.750989Z",
     "start_time": "2020-10-06T04:52:51.724955Z"
    }
   },
   "outputs": [
    {
     "data": {
      "text/plain": [
       "True"
      ]
     },
     "execution_count": 8,
     "metadata": {},
     "output_type": "execute_result"
    }
   ],
   "source": [
    "# 인덱스 재배치\n",
    "df = df.reset_index(drop=True)\n",
    "df.index.is_unique"
   ]
  },
  {
   "cell_type": "code",
   "execution_count": 9,
   "metadata": {
    "ExecuteTime": {
     "end_time": "2020-10-06T04:52:51.767955Z",
     "start_time": "2020-10-06T04:52:51.752953Z"
    }
   },
   "outputs": [
    {
     "data": {
      "text/html": [
       "<div>\n",
       "<style scoped>\n",
       "    .dataframe tbody tr th:only-of-type {\n",
       "        vertical-align: middle;\n",
       "    }\n",
       "\n",
       "    .dataframe tbody tr th {\n",
       "        vertical-align: top;\n",
       "    }\n",
       "\n",
       "    .dataframe thead th {\n",
       "        text-align: right;\n",
       "    }\n",
       "</style>\n",
       "<table border=\"1\" class=\"dataframe\">\n",
       "  <thead>\n",
       "    <tr style=\"text-align: right;\">\n",
       "      <th></th>\n",
       "      <th>TEST_CNT</th>\n",
       "      <th>CENTER_NM</th>\n",
       "      <th>AGE_GBN</th>\n",
       "      <th>TEST_GBN</th>\n",
       "      <th>TEST_AGE</th>\n",
       "      <th>INPUT_GBN</th>\n",
       "      <th>CERT_GBN</th>\n",
       "      <th>TEST_YMD</th>\n",
       "      <th>TEST_SEX</th>\n",
       "    </tr>\n",
       "  </thead>\n",
       "  <tbody>\n",
       "    <tr>\n",
       "      <th>86611</th>\n",
       "      <td>3</td>\n",
       "      <td>목포</td>\n",
       "      <td>노인</td>\n",
       "      <td>출장</td>\n",
       "      <td>75</td>\n",
       "      <td>관리자</td>\n",
       "      <td>금상</td>\n",
       "      <td>20191129</td>\n",
       "      <td>F</td>\n",
       "    </tr>\n",
       "    <tr>\n",
       "      <th>86612</th>\n",
       "      <td>6</td>\n",
       "      <td>순천</td>\n",
       "      <td>성인</td>\n",
       "      <td>일반</td>\n",
       "      <td>22</td>\n",
       "      <td>인바디</td>\n",
       "      <td>참가상</td>\n",
       "      <td>20191129</td>\n",
       "      <td>F</td>\n",
       "    </tr>\n",
       "    <tr>\n",
       "      <th>86613</th>\n",
       "      <td>6</td>\n",
       "      <td>연수</td>\n",
       "      <td>노인</td>\n",
       "      <td>출장</td>\n",
       "      <td>75</td>\n",
       "      <td>관리자</td>\n",
       "      <td>은상</td>\n",
       "      <td>20191126</td>\n",
       "      <td>M</td>\n",
       "    </tr>\n",
       "    <tr>\n",
       "      <th>86614</th>\n",
       "      <td>1</td>\n",
       "      <td>KSPO아산(출장)</td>\n",
       "      <td>청소년</td>\n",
       "      <td>출장</td>\n",
       "      <td>14</td>\n",
       "      <td>관리자</td>\n",
       "      <td>참가상</td>\n",
       "      <td>20191129</td>\n",
       "      <td>M</td>\n",
       "    </tr>\n",
       "    <tr>\n",
       "      <th>86615</th>\n",
       "      <td>1</td>\n",
       "      <td>성동</td>\n",
       "      <td>노인</td>\n",
       "      <td>출장</td>\n",
       "      <td>91</td>\n",
       "      <td>관리자</td>\n",
       "      <td>은상</td>\n",
       "      <td>20191129</td>\n",
       "      <td>F</td>\n",
       "    </tr>\n",
       "  </tbody>\n",
       "</table>\n",
       "</div>"
      ],
      "text/plain": [
       "       TEST_CNT   CENTER_NM AGE_GBN TEST_GBN  TEST_AGE INPUT_GBN CERT_GBN  \\\n",
       "86611         3          목포      노인       출장        75       관리자       금상   \n",
       "86612         6          순천      성인       일반        22       인바디      참가상   \n",
       "86613         6          연수      노인       출장        75       관리자       은상   \n",
       "86614         1  KSPO아산(출장)     청소년       출장        14       관리자      참가상   \n",
       "86615         1          성동      노인       출장        91       관리자       은상   \n",
       "\n",
       "       TEST_YMD TEST_SEX  \n",
       "86611  20191129        F  \n",
       "86612  20191129        F  \n",
       "86613  20191126        M  \n",
       "86614  20191129        M  \n",
       "86615  20191129        F  "
      ]
     },
     "execution_count": 9,
     "metadata": {},
     "output_type": "execute_result"
    }
   ],
   "source": [
    "df.tail()"
   ]
  },
  {
   "cell_type": "markdown",
   "metadata": {},
   "source": [
    "## age 새로운 항목 만들기 "
   ]
  },
  {
   "cell_type": "code",
   "execution_count": 10,
   "metadata": {
    "ExecuteTime": {
     "end_time": "2020-10-06T04:52:51.813988Z",
     "start_time": "2020-10-06T04:52:51.769952Z"
    }
   },
   "outputs": [],
   "source": [
    "df.loc[df['AGE_GBN']=='청소년','age'] = 10\n",
    "df.loc[(df['TEST_AGE'] >= 20) & (df['TEST_AGE'] <=30),'age'] = 20\n",
    "df.loc[(df['TEST_AGE'] >= 30) & (df['TEST_AGE'] <=40),'age'] = 30\n",
    "df.loc[(df['TEST_AGE'] >= 40) & (df['TEST_AGE'] <=50),'age'] = 40\n",
    "df.loc[(df['TEST_AGE'] >= 50) & (df['TEST_AGE'] <=60),'age'] = 50\n",
    "df.loc[(df['TEST_AGE'] >= 60) ,'age'] = 60"
   ]
  },
  {
   "cell_type": "markdown",
   "metadata": {},
   "source": [
    "# 출장, 센터 데이터 분리하기"
   ]
  },
  {
   "cell_type": "code",
   "execution_count": 11,
   "metadata": {
    "ExecuteTime": {
     "end_time": "2020-10-06T04:52:51.848989Z",
     "start_time": "2020-10-06T04:52:51.815992Z"
    }
   },
   "outputs": [
    {
     "name": "stdout",
     "output_type": "stream",
     "text": [
      "센터에서 측정한 개수 : 29918 \n",
      "출장에서 측정한 갯수 : 56698\n"
     ]
    }
   ],
   "source": [
    "fit_on =  df[df['TEST_GBN']!='출장']\n",
    "fit_off = df[df['TEST_GBN']=='출장']\n",
    "\n",
    "print('센터에서 측정한 개수 : {} \\n출장에서 측정한 갯수 : {}'.format(fit_on.shape[0],fit_off.shape[0]))"
   ]
  },
  {
   "cell_type": "markdown",
   "metadata": {},
   "source": [
    "# 데이터 분석\n",
    "## 나이"
   ]
  },
  {
   "cell_type": "code",
   "execution_count": 12,
   "metadata": {
    "ExecuteTime": {
     "end_time": "2020-10-06T04:52:51.863955Z",
     "start_time": "2020-10-06T04:52:51.850988Z"
    }
   },
   "outputs": [],
   "source": [
    "# 나이 분류하는 함수만들기 \n",
    "\n",
    "def age_classification(df) :\n",
    "    \n",
    "    test = pd.DataFrame(columns=['number'],index=['Teenager','20s','30s','40s','50s','old'])\n",
    "    \n",
    "    # 청소년\n",
    "    print(\"청소년 수는 {} 입니다\".format(len(df[df['AGE_GBN']=='청소년'] )))\n",
    "    test.loc['Teenager'] = len(df[df['AGE_GBN']=='청소년'] )\n",
    "    \n",
    "    # 20대\n",
    "    print(\"20대 수는 {} 입니다\".format(len(df[(df['TEST_AGE'] >= 20) & (df['TEST_AGE'] <30)] )))\n",
    "    test.loc['20s'] = len(df[(df['TEST_AGE'] >= 20) & (df['TEST_AGE'] <30)] )\n",
    "    \n",
    "    # 30대\n",
    "    print(\"30대 수는 {} 입니다\".format(len(df[(df['TEST_AGE'] >= 30) & (df['TEST_AGE'] <40)] )))\n",
    "    test.loc['30s'] = len(df[(df['TEST_AGE'] >= 30) & (df['TEST_AGE'] <40)] )\n",
    "    \n",
    "    # 40대 \n",
    "    print(\"40대 수는 {} 입니다\".format(len(df[(df['TEST_AGE'] >= 40) & (df['TEST_AGE'] <50)] )))\n",
    "    test.loc['40s'] =len(df[(df['TEST_AGE'] >= 40) & (df['TEST_AGE'] <50)] )\n",
    "    \n",
    "    # 50대 \n",
    "    print(\"50대 수는 {} 입니다\".format(len(df[(df['TEST_AGE'] >= 50) & (df['TEST_AGE'] <60)] )))\n",
    "    test.loc['50s'] = len(df[(df['TEST_AGE'] >= 50) & (df['TEST_AGE'] <60)] )\n",
    "    \n",
    "    # 노인\n",
    "    print(\"60대 이상(노인) 수는 {} 입니다\".format(len(df[(df['TEST_AGE'] >= 60)] )))\n",
    "    test.loc['old'] = len(df[(df['TEST_AGE'] >= 60)])\n",
    "    \n",
    "    \n",
    "    return test"
   ]
  },
  {
   "cell_type": "code",
   "execution_count": 13,
   "metadata": {
    "ExecuteTime": {
     "end_time": "2020-10-06T04:52:51.915987Z",
     "start_time": "2020-10-06T04:52:51.865956Z"
    },
    "hide_input": false
   },
   "outputs": [
    {
     "name": "stdout",
     "output_type": "stream",
     "text": [
      "센터에서 측정한 데이터 입니다 \n",
      "청소년 수는 2998 입니다\n",
      "20대 수는 10869 입니다\n",
      "30대 수는 2333 입니다\n",
      "40대 수는 2364 입니다\n",
      "50대 수는 2991 입니다\n",
      "60대 이상(노인) 수는 6546 입니다\n"
     ]
    }
   ],
   "source": [
    "print(\"센터에서 측정한 데이터 입니다 \")\n",
    "test_on= age_classification(fit_on)"
   ]
  },
  {
   "cell_type": "code",
   "execution_count": 14,
   "metadata": {
    "ExecuteTime": {
     "end_time": "2020-10-06T04:52:52.158998Z",
     "start_time": "2020-10-06T04:52:51.916955Z"
    }
   },
   "outputs": [
    {
     "data": {
      "text/plain": [
       "<BarContainer object of 6 artists>"
      ]
     },
     "execution_count": 14,
     "metadata": {},
     "output_type": "execute_result"
    },
    {
     "data": {
      "image/png": "[encoded data removed]",
      "text/plain": [
       "<Figure size 432x288 with 1 Axes>"
      ]
     },
     "metadata": {
      "needs_background": "light"
     },
     "output_type": "display_data"
    }
   ],
   "source": [
    "plt.title('Center measurement')\n",
    "plt.xlabel('age')\n",
    "plt.ylabel('number')\n",
    "plt.bar(test_on.index, test_on['number'])"
   ]
  },
  {
   "cell_type": "code",
   "execution_count": 15,
   "metadata": {
    "ExecuteTime": {
     "end_time": "2020-10-06T04:52:52.225988Z",
     "start_time": "2020-10-06T04:52:52.161953Z"
    },
    "scrolled": true
   },
   "outputs": [
    {
     "name": "stdout",
     "output_type": "stream",
     "text": [
      "센터에서 측정한 데이터 입니다 \n",
      "청소년 수는 25341 입니다\n",
      "20대 수는 7288 입니다\n",
      "30대 수는 2484 입니다\n",
      "40대 수는 2366 입니다\n",
      "50대 수는 2852 입니다\n",
      "60대 이상(노인) 수는 12964 입니다\n"
     ]
    }
   ],
   "source": [
    "print(\"출장에서 측정한 데이터 입니다 \")\n",
    "test_off= age_classification(fit_off)"
   ]
  },
  {
   "cell_type": "code",
   "execution_count": 16,
   "metadata": {
    "ExecuteTime": {
     "end_time": "2020-10-06T04:52:52.391954Z",
     "start_time": "2020-10-06T04:52:52.226954Z"
    }
   },
   "outputs": [
    {
     "data": {
      "text/plain": [
       "<BarContainer object of 6 artists>"
      ]
     },
     "execution_count": 16,
     "metadata": {},
     "output_type": "execute_result"
    },
    {
     "data": {
      "image/png": "[encoded data removed]",
      "text/plain": [
       "<Figure size 432x288 with 1 Axes>"
      ]
     },
     "metadata": {
      "needs_background": "light"
     },
     "output_type": "display_data"
    }
   ],
   "source": [
    "plt.title('Business trip measurement')\n",
    "plt.xlabel('age')\n",
    "plt.ylabel('number')\n",
    "plt.bar(test_off.index, test_off['number'])"
   ]
  },
  {
   "cell_type": "markdown",
   "metadata": {},
   "source": [
    "**같이 비교하기**"
   ]
  },
  {
   "cell_type": "code",
   "execution_count": 17,
   "metadata": {
    "ExecuteTime": {
     "end_time": "2020-10-06T04:52:52.410955Z",
     "start_time": "2020-10-06T04:52:52.394147Z"
    }
   },
   "outputs": [],
   "source": [
    "test_on.rename(columns={'number' :'center'},inplace=True)\n",
    "test_off.rename(columns={'number' :'trip'},inplace=True)"
   ]
  },
  {
   "cell_type": "code",
   "execution_count": 18,
   "metadata": {
    "ExecuteTime": {
     "end_time": "2020-10-06T04:52:52.431956Z",
     "start_time": "2020-10-06T04:52:52.412956Z"
    }
   },
   "outputs": [
    {
     "data": {
      "text/html": [
       "<div>\n",
       "<style scoped>\n",
       "    .dataframe tbody tr th:only-of-type {\n",
       "        vertical-align: middle;\n",
       "    }\n",
       "\n",
       "    .dataframe tbody tr th {\n",
       "        vertical-align: top;\n",
       "    }\n",
       "\n",
       "    .dataframe thead th {\n",
       "        text-align: right;\n",
       "    }\n",
       "</style>\n",
       "<table border=\"1\" class=\"dataframe\">\n",
       "  <thead>\n",
       "    <tr style=\"text-align: right;\">\n",
       "      <th></th>\n",
       "      <th>center</th>\n",
       "      <th>trip</th>\n",
       "    </tr>\n",
       "  </thead>\n",
       "  <tbody>\n",
       "    <tr>\n",
       "      <th>Teenager</th>\n",
       "      <td>2998</td>\n",
       "      <td>25341</td>\n",
       "    </tr>\n",
       "    <tr>\n",
       "      <th>20s</th>\n",
       "      <td>10869</td>\n",
       "      <td>7288</td>\n",
       "    </tr>\n",
       "    <tr>\n",
       "      <th>30s</th>\n",
       "      <td>2333</td>\n",
       "      <td>2484</td>\n",
       "    </tr>\n",
       "    <tr>\n",
       "      <th>40s</th>\n",
       "      <td>2364</td>\n",
       "      <td>2366</td>\n",
       "    </tr>\n",
       "    <tr>\n",
       "      <th>50s</th>\n",
       "      <td>2991</td>\n",
       "      <td>2852</td>\n",
       "    </tr>\n",
       "    <tr>\n",
       "      <th>old</th>\n",
       "      <td>6546</td>\n",
       "      <td>12964</td>\n",
       "    </tr>\n",
       "  </tbody>\n",
       "</table>\n",
       "</div>"
      ],
      "text/plain": [
       "         center   trip\n",
       "Teenager   2998  25341\n",
       "20s       10869   7288\n",
       "30s        2333   2484\n",
       "40s        2364   2366\n",
       "50s        2991   2852\n",
       "old        6546  12964"
      ]
     },
     "execution_count": 18,
     "metadata": {},
     "output_type": "execute_result"
    }
   ],
   "source": [
    "test = pd.concat([test_on, test_off], axis=1)\n",
    "test "
   ]
  },
  {
   "cell_type": "code",
   "execution_count": 19,
   "metadata": {
    "ExecuteTime": {
     "end_time": "2020-10-06T04:52:52.601954Z",
     "start_time": "2020-10-06T04:52:52.433953Z"
    }
   },
   "outputs": [
    {
     "data": {
      "image/png": "[encoded data removed]",
      "text/plain": [
       "<Figure size 432x288 with 1 Axes>"
      ]
     },
     "metadata": {
      "needs_background": "light"
     },
     "output_type": "display_data"
    }
   ],
   "source": [
    "plt.title('Business trip measurement')\n",
    "plt.xlabel('age')\n",
    "plt.ylabel('number')\n",
    "plt.plot(test['center'], label = 'center')\n",
    "plt.plot(test['trip'], label = 'trip')\n",
    "plt.legend()\n",
    "plt.show()"
   ]
  },
  {
   "cell_type": "markdown",
   "metadata": {},
   "source": [
    "## 성별"
   ]
  },
  {
   "cell_type": "code",
   "execution_count": 20,
   "metadata": {
    "ExecuteTime": {
     "end_time": "2020-10-06T04:52:52.616267Z",
     "start_time": "2020-10-06T04:52:52.604954Z"
    }
   },
   "outputs": [],
   "source": [
    "age_test = pd.DataFrame(index=['Man','Female'], columns=['center','trip']) "
   ]
  },
  {
   "cell_type": "code",
   "execution_count": 21,
   "metadata": {
    "ExecuteTime": {
     "end_time": "2020-10-06T04:52:52.674953Z",
     "start_time": "2020-10-06T04:52:52.618958Z"
    }
   },
   "outputs": [
    {
     "data": {
      "text/html": [
       "<div>\n",
       "<style scoped>\n",
       "    .dataframe tbody tr th:only-of-type {\n",
       "        vertical-align: middle;\n",
       "    }\n",
       "\n",
       "    .dataframe tbody tr th {\n",
       "        vertical-align: top;\n",
       "    }\n",
       "\n",
       "    .dataframe thead th {\n",
       "        text-align: right;\n",
       "    }\n",
       "</style>\n",
       "<table border=\"1\" class=\"dataframe\">\n",
       "  <thead>\n",
       "    <tr style=\"text-align: right;\">\n",
       "      <th></th>\n",
       "      <th>center</th>\n",
       "      <th>trip</th>\n",
       "    </tr>\n",
       "  </thead>\n",
       "  <tbody>\n",
       "    <tr>\n",
       "      <th>Man</th>\n",
       "      <td>12843</td>\n",
       "      <td>30442</td>\n",
       "    </tr>\n",
       "    <tr>\n",
       "      <th>Female</th>\n",
       "      <td>17075</td>\n",
       "      <td>26256</td>\n",
       "    </tr>\n",
       "  </tbody>\n",
       "</table>\n",
       "</div>"
      ],
      "text/plain": [
       "       center   trip\n",
       "Man     12843  30442\n",
       "Female  17075  26256"
      ]
     },
     "execution_count": 21,
     "metadata": {},
     "output_type": "execute_result"
    }
   ],
   "source": [
    "age_test.loc['Man','center'] = len(fit_on[fit_on['TEST_SEX']=='M'])\n",
    "age_test.loc['Female','center'] = len(fit_on[fit_on['TEST_SEX']=='F'])\n",
    "age_test.loc['Man','trip'] = len(fit_off[fit_off['TEST_SEX']=='M'])\n",
    "age_test.loc['Female','trip'] = len(fit_off[fit_off['TEST_SEX']=='F'])\n",
    "\n",
    "age_test"
   ]
  },
  {
   "cell_type": "code",
   "execution_count": 22,
   "metadata": {
    "ExecuteTime": {
     "end_time": "2020-10-06T04:52:52.967991Z",
     "start_time": "2020-10-06T04:52:52.681954Z"
    }
   },
   "outputs": [
    {
     "data": {
      "text/plain": [
       "<matplotlib.axes._subplots.AxesSubplot at 0x19b66cba548>"
      ]
     },
     "execution_count": 22,
     "metadata": {},
     "output_type": "execute_result"
    },
    {
     "data": {
      "image/png": "[encoded data removed]",
      "text/plain": [
       "<Figure size 1296x576 with 2 Axes>"
      ]
     },
     "metadata": {
      "needs_background": "light"
     },
     "output_type": "display_data"
    }
   ],
   "source": [
    "f, ax = plt.subplots(1,2, figsize = (18,8))\n",
    "ax[0].set_title('Center')\n",
    "sns.barplot(data=age_test,\n",
    "           x = age_test.index,\n",
    "           y = age_test['center'],\n",
    "            ax = ax[0]\n",
    "        \n",
    "          )\n",
    "ax[1].set_title('trip')\n",
    "sns.barplot(data=age_test,\n",
    "           x = age_test.index,\n",
    "           y = age_test['trip'],\n",
    "            ax = ax[1]\n",
    "          )"
   ]
  },
  {
   "cell_type": "markdown",
   "metadata": {},
   "source": [
    "## 다중 그래프 "
   ]
  },
  {
   "cell_type": "code",
   "execution_count": 23,
   "metadata": {
    "ExecuteTime": {
     "end_time": "2020-10-06T04:52:52.989953Z",
     "start_time": "2020-10-06T04:52:52.971003Z"
    }
   },
   "outputs": [
    {
     "data": {
      "text/html": [
       "<div>\n",
       "<style scoped>\n",
       "    .dataframe tbody tr th:only-of-type {\n",
       "        vertical-align: middle;\n",
       "    }\n",
       "\n",
       "    .dataframe tbody tr th {\n",
       "        vertical-align: top;\n",
       "    }\n",
       "\n",
       "    .dataframe thead th {\n",
       "        text-align: right;\n",
       "    }\n",
       "</style>\n",
       "<table border=\"1\" class=\"dataframe\">\n",
       "  <thead>\n",
       "    <tr style=\"text-align: right;\">\n",
       "      <th></th>\n",
       "      <th>TEST_CNT</th>\n",
       "      <th>CENTER_NM</th>\n",
       "      <th>AGE_GBN</th>\n",
       "      <th>TEST_GBN</th>\n",
       "      <th>TEST_AGE</th>\n",
       "      <th>INPUT_GBN</th>\n",
       "      <th>CERT_GBN</th>\n",
       "      <th>TEST_YMD</th>\n",
       "      <th>TEST_SEX</th>\n",
       "      <th>age</th>\n",
       "    </tr>\n",
       "  </thead>\n",
       "  <tbody>\n",
       "    <tr>\n",
       "      <th>0</th>\n",
       "      <td>1</td>\n",
       "      <td>금천</td>\n",
       "      <td>성인</td>\n",
       "      <td>일반</td>\n",
       "      <td>25</td>\n",
       "      <td>관리자</td>\n",
       "      <td>참가상</td>\n",
       "      <td>20190902</td>\n",
       "      <td>F</td>\n",
       "      <td>20.0</td>\n",
       "    </tr>\n",
       "    <tr>\n",
       "      <th>4</th>\n",
       "      <td>7</td>\n",
       "      <td>영동</td>\n",
       "      <td>노인</td>\n",
       "      <td>일반</td>\n",
       "      <td>65</td>\n",
       "      <td>관리자</td>\n",
       "      <td>금상</td>\n",
       "      <td>20190902</td>\n",
       "      <td>F</td>\n",
       "      <td>60.0</td>\n",
       "    </tr>\n",
       "    <tr>\n",
       "      <th>6</th>\n",
       "      <td>1</td>\n",
       "      <td>광산</td>\n",
       "      <td>성인</td>\n",
       "      <td>일반</td>\n",
       "      <td>56</td>\n",
       "      <td>관리자</td>\n",
       "      <td>참가상</td>\n",
       "      <td>20190902</td>\n",
       "      <td>F</td>\n",
       "      <td>50.0</td>\n",
       "    </tr>\n",
       "    <tr>\n",
       "      <th>7</th>\n",
       "      <td>1</td>\n",
       "      <td>금천</td>\n",
       "      <td>성인</td>\n",
       "      <td>일반</td>\n",
       "      <td>36</td>\n",
       "      <td>관리자</td>\n",
       "      <td>참가상</td>\n",
       "      <td>20190902</td>\n",
       "      <td>F</td>\n",
       "      <td>30.0</td>\n",
       "    </tr>\n",
       "    <tr>\n",
       "      <th>8</th>\n",
       "      <td>2</td>\n",
       "      <td>동작</td>\n",
       "      <td>노인</td>\n",
       "      <td>일반</td>\n",
       "      <td>76</td>\n",
       "      <td>관리자</td>\n",
       "      <td>동상</td>\n",
       "      <td>20190902</td>\n",
       "      <td>M</td>\n",
       "      <td>60.0</td>\n",
       "    </tr>\n",
       "  </tbody>\n",
       "</table>\n",
       "</div>"
      ],
      "text/plain": [
       "   TEST_CNT CENTER_NM AGE_GBN TEST_GBN  TEST_AGE INPUT_GBN CERT_GBN  TEST_YMD  \\\n",
       "0         1        금천      성인       일반        25       관리자      참가상  20190902   \n",
       "4         7        영동      노인       일반        65       관리자       금상  20190902   \n",
       "6         1        광산      성인       일반        56       관리자      참가상  20190902   \n",
       "7         1        금천      성인       일반        36       관리자      참가상  20190902   \n",
       "8         2        동작      노인       일반        76       관리자       동상  20190902   \n",
       "\n",
       "  TEST_SEX   age  \n",
       "0        F  20.0  \n",
       "4        F  60.0  \n",
       "6        F  50.0  \n",
       "7        F  30.0  \n",
       "8        M  60.0  "
      ]
     },
     "execution_count": 23,
     "metadata": {},
     "output_type": "execute_result"
    }
   ],
   "source": [
    "fit_on.head()"
   ]
  },
  {
   "cell_type": "code",
   "execution_count": 24,
   "metadata": {
    "ExecuteTime": {
     "end_time": "2020-10-06T04:52:53.430952Z",
     "start_time": "2020-10-06T04:52:52.992956Z"
    },
    "scrolled": false
   },
   "outputs": [
    {
     "data": {
      "image/png": "[encoded data removed]",
      "text/plain": [
       "<Figure size 1296x576 with 2 Axes>"
      ]
     },
     "metadata": {
      "needs_background": "light"
     },
     "output_type": "display_data"
    }
   ],
   "source": [
    "f, ax = plt.subplots(1,2, figsize = (18,8))\n",
    "sns.countplot(x='age',hue = 'TEST_SEX', palette='Paired', data = fit_on, ax = ax[0]).set_title('Center')\n",
    "sns.countplot(x='age',hue = 'TEST_SEX', palette='Paired', data = fit_off, ax = ax[1]).set_title('Trip')\n",
    "plt.show()"
   ]
  },
  {
   "cell_type": "markdown",
   "metadata": {},
   "source": [
    "## CERT_GBN\t, 상 수여"
   ]
  },
  {
   "cell_type": "code",
   "execution_count": 25,
   "metadata": {
    "ExecuteTime": {
     "end_time": "2020-10-06T04:52:53.444955Z",
     "start_time": "2020-10-06T04:52:53.432955Z"
    }
   },
   "outputs": [
    {
     "data": {
      "text/plain": [
       "array(['참가상', '금상', '동상', '은상'], dtype=object)"
      ]
     },
     "execution_count": 25,
     "metadata": {},
     "output_type": "execute_result"
    }
   ],
   "source": [
    "fit_on['CERT_GBN'].unique()"
   ]
  },
  {
   "cell_type": "code",
   "execution_count": 26,
   "metadata": {
    "ExecuteTime": {
     "end_time": "2020-10-06T04:52:53.459953Z",
     "start_time": "2020-10-06T04:52:53.446953Z"
    }
   },
   "outputs": [
    {
     "data": {
      "text/plain": [
       "array(['참가상', '동상', '은상', '금상'], dtype=object)"
      ]
     },
     "execution_count": 26,
     "metadata": {},
     "output_type": "execute_result"
    }
   ],
   "source": [
    "fit_off['CERT_GBN'].unique()"
   ]
  },
  {
   "cell_type": "code",
   "execution_count": 27,
   "metadata": {
    "ExecuteTime": {
     "end_time": "2020-10-06T04:52:53.813962Z",
     "start_time": "2020-10-06T04:52:53.461988Z"
    }
   },
   "outputs": [
    {
     "data": {
      "text/plain": [
       "Text(0.5, 1.0, 'Trip')"
      ]
     },
     "execution_count": 27,
     "metadata": {},
     "output_type": "execute_result"
    },
    {
     "data": {
      "image/png": "[encoded data removed]",
      "text/plain": [
       "<Figure size 1296x576 with 2 Axes>"
      ]
     },
     "metadata": {
      "needs_background": "light"
     },
     "output_type": "display_data"
    }
   ],
   "source": [
    "f, ax = plt.subplots(1,2, figsize = (18,8))\n",
    "sns.barplot(x = fit_on['CERT_GBN'].value_counts().keys().tolist(), y = fit_on['CERT_GBN'].value_counts().tolist(),ax = ax[0]).set_title('Center')\n",
    "sns.barplot(x = fit_off['CERT_GBN'].value_counts().keys().tolist(), y = fit_off['CERT_GBN'].value_counts().tolist(),ax = ax[1]).set_title('Trip')"
   ]
  },
  {
   "cell_type": "code",
   "execution_count": 28,
   "metadata": {
    "ExecuteTime": {
     "end_time": "2020-10-06T04:52:53.827953Z",
     "start_time": "2020-10-06T04:52:53.815953Z"
    }
   },
   "outputs": [
    {
     "data": {
      "text/plain": [
       "참가상    15208\n",
       "동상      7607\n",
       "은상      4673\n",
       "금상      2430\n",
       "Name: CERT_GBN, dtype: int64"
      ]
     },
     "execution_count": 28,
     "metadata": {},
     "output_type": "execute_result"
    }
   ],
   "source": [
    "fit_on['CERT_GBN'].value_counts()"
   ]
  },
  {
   "cell_type": "code",
   "execution_count": 29,
   "metadata": {
    "ExecuteTime": {
     "end_time": "2020-10-06T04:52:53.845965Z",
     "start_time": "2020-10-06T04:52:53.829952Z"
    }
   },
   "outputs": [
    {
     "data": {
      "text/plain": [
       "참가상    35637\n",
       "동상     11342\n",
       "은상      6808\n",
       "금상      2911\n",
       "Name: CERT_GBN, dtype: int64"
      ]
     },
     "execution_count": 29,
     "metadata": {},
     "output_type": "execute_result"
    }
   ],
   "source": [
    "fit_off['CERT_GBN'].value_counts()"
   ]
  },
  {
   "cell_type": "markdown",
   "metadata": {},
   "source": [
    "### 금상을 탐구해보자"
   ]
  },
  {
   "cell_type": "code",
   "execution_count": 46,
   "metadata": {
    "ExecuteTime": {
     "end_time": "2020-10-06T05:30:00.100661Z",
     "start_time": "2020-10-06T05:29:59.930668Z"
    }
   },
   "outputs": [
    {
     "data": {
      "text/plain": [
       "Text(0.5, 1.0, 'Center')"
      ]
     },
     "execution_count": 46,
     "metadata": {},
     "output_type": "execute_result"
    },
    {
     "data": {
      "image/png": "[encoded data removed]",
      "text/plain": [
       "<Figure size 864x360 with 1 Axes>"
      ]
     },
     "metadata": {
      "needs_background": "light"
     },
     "output_type": "display_data"
    }
   ],
   "source": [
    "plt.figure(figsize=(12, 5))\n",
    "sns.countplot(x = 'age',data=fit_on.loc[fit_on['CERT_GBN']=='금상',['age','TEST_SEX']]).set_title('Center')"
   ]
  },
  {
   "cell_type": "code",
   "execution_count": 31,
   "metadata": {
    "ExecuteTime": {
     "end_time": "2020-10-06T04:52:54.395986Z",
     "start_time": "2020-10-06T04:52:54.104955Z"
    }
   },
   "outputs": [
    {
     "data": {
      "text/plain": [
       "Text(0.5, 1.0, '출장')"
      ]
     },
     "execution_count": 31,
     "metadata": {},
     "output_type": "execute_result"
    },
    {
     "data": {
      "image/png": "[encoded data removed]",
      "text/plain": [
       "<Figure size 864x360 with 1 Axes>"
      ]
     },
     "metadata": {
      "needs_background": "light"
     },
     "output_type": "display_data"
    }
   ],
   "source": [
    "plt.figure(figsize=(12, 5))\n",
    "sns.countplot(x = 'age', hue='TEST_SEX',data=fit_off.loc[fit_off['CERT_GBN']=='금상',['age','TEST_SEX']]).set_title('출장')"
   ]
  },
  {
   "cell_type": "markdown",
   "metadata": {},
   "source": [
    "## 지역"
   ]
  },
  {
   "cell_type": "code",
   "execution_count": 95,
   "metadata": {
    "ExecuteTime": {
     "end_time": "2020-10-06T08:17:26.605002Z",
     "start_time": "2020-10-06T08:17:26.577356Z"
    }
   },
   "outputs": [
    {
     "data": {
      "text/plain": [
       "1.0"
      ]
     },
     "execution_count": 95,
     "metadata": {},
     "output_type": "execute_result"
    }
   ],
   "source": [
    "len(fit_off['CENTER_NM'].unique()) / len(fit_on['CENTER_NM'].unique()) "
   ]
  },
  {
   "cell_type": "code",
   "execution_count": 32,
   "metadata": {
    "ExecuteTime": {
     "end_time": "2020-10-06T05:14:40.642490Z",
     "start_time": "2020-10-06T05:14:40.627495Z"
    }
   },
   "outputs": [
    {
     "data": {
      "text/plain": [
       "KSPO송파(출장)    2869\n",
       "영동            2212\n",
       "김천            2028\n",
       "KSPO아산(출장)    1996\n",
       "스포원(금정)       1993\n",
       "북구(광주)        1903\n",
       "광산            1895\n",
       "서초            1793\n",
       "군산            1781\n",
       "안동            1776\n",
       "창원            1719\n",
       "전주            1711\n",
       "사하            1697\n",
       "충주            1626\n",
       "춘천            1604\n",
       "달서            1600\n",
       "목포            1420\n",
       "원주            1379\n",
       "서구(대전)        1235\n",
       "제주            1183\n",
       "사천            1157\n",
       "강릉            1140\n",
       "금천            1100\n",
       "연수            1005\n",
       "북구(부산)         981\n",
       "동구(광주)         948\n",
       "세종             947\n",
       "성동             931\n",
       "남구(울산)         926\n",
       "곡성             897\n",
       "동작             846\n",
       "오산             835\n",
       "남원             817\n",
       "증평             779\n",
       "노원             659\n",
       "남구(부산)         635\n",
       "KSPO송파         621\n",
       "마포             591\n",
       "시흥             589\n",
       "구미             582\n",
       "나주             570\n",
       "사상             550\n",
       "의정부            433\n",
       "KSPO아산         424\n",
       "화성             389\n",
       "천안             335\n",
       "삼척             312\n",
       "부천             290\n",
       "순천             288\n",
       "성남             243\n",
       "청주             183\n",
       "계룡             152\n",
       "포항             123\n",
       "Name: CENTER_NM, dtype: int64"
      ]
     },
     "execution_count": 32,
     "metadata": {},
     "output_type": "execute_result"
    }
   ],
   "source": [
    "fit_off['CENTER_NM'].value_counts()"
   ]
  },
  {
   "cell_type": "code",
   "execution_count": 34,
   "metadata": {
    "ExecuteTime": {
     "end_time": "2020-10-06T05:15:13.489762Z",
     "start_time": "2020-10-06T05:15:13.471766Z"
    }
   },
   "outputs": [
    {
     "data": {
      "text/plain": [
       "순천            1659\n",
       "오산            1217\n",
       "청주            1117\n",
       "성동            1091\n",
       "남구(부산)        1039\n",
       "전주             925\n",
       "달서             925\n",
       "서초             904\n",
       "의정부            902\n",
       "화성             901\n",
       "마포             869\n",
       "제주             788\n",
       "남원             765\n",
       "북구(부산)         721\n",
       "부천             687\n",
       "KSPO송파         681\n",
       "원주             662\n",
       "서구(대전)         641\n",
       "스포원(금정)        623\n",
       "구미             614\n",
       "금천             603\n",
       "사하             597\n",
       "곡성             582\n",
       "광산             582\n",
       "동작             553\n",
       "북구(광주)         547\n",
       "남구(울산)         544\n",
       "동구(광주)         538\n",
       "사상             518\n",
       "춘천             504\n",
       "군산             488\n",
       "포항             482\n",
       "창원             474\n",
       "증평             467\n",
       "삼척             440\n",
       "영동             426\n",
       "안동             385\n",
       "김천             349\n",
       "연수             335\n",
       "노원             323\n",
       "나주             292\n",
       "성남             287\n",
       "사천             245\n",
       "KSPO아산         237\n",
       "세종             236\n",
       "강릉             233\n",
       "목포             230\n",
       "천안             197\n",
       "KSPO송파(출장)     150\n",
       "시흥             136\n",
       "계룡              90\n",
       "충주              72\n",
       "KSPO아산(출장)      45\n",
       "Name: CENTER_NM, dtype: int64"
      ]
     },
     "execution_count": 34,
     "metadata": {},
     "output_type": "execute_result"
    }
   ],
   "source": [
    "fit_on['CENTER_NM'].value_counts()"
   ]
  },
  {
   "cell_type": "markdown",
   "metadata": {},
   "source": [
    "### 서울만 뽑아보기"
   ]
  },
  {
   "cell_type": "code",
   "execution_count": 72,
   "metadata": {
    "ExecuteTime": {
     "end_time": "2020-10-06T07:54:11.746208Z",
     "start_time": "2020-10-06T07:54:11.731434Z"
    }
   },
   "outputs": [
    {
     "data": {
      "text/plain": [
       "11"
      ]
     },
     "execution_count": 72,
     "metadata": {},
     "output_type": "execute_result"
    }
   ],
   "source": [
    "seoul_city = ['성동','서초','의정부','마포','동작','금천','노원','화성','오산','부천','성남']\n",
    "len(seoul_city)"
   ]
  },
  {
   "cell_type": "code",
   "execution_count": 84,
   "metadata": {
    "ExecuteTime": {
     "end_time": "2020-10-06T08:05:33.002211Z",
     "start_time": "2020-10-06T08:05:32.901338Z"
    }
   },
   "outputs": [],
   "source": [
    "seoul_on = fit_on[fit_on.CENTER_NM.apply(lambda sentence : any(word in sentence for word in seoul_city))]"
   ]
  },
  {
   "cell_type": "code",
   "execution_count": 85,
   "metadata": {
    "ExecuteTime": {
     "end_time": "2020-10-06T08:05:39.688234Z",
     "start_time": "2020-10-06T08:05:39.659998Z"
    }
   },
   "outputs": [
    {
     "data": {
      "text/html": [
       "<div>\n",
       "<style scoped>\n",
       "    .dataframe tbody tr th:only-of-type {\n",
       "        vertical-align: middle;\n",
       "    }\n",
       "\n",
       "    .dataframe tbody tr th {\n",
       "        vertical-align: top;\n",
       "    }\n",
       "\n",
       "    .dataframe thead th {\n",
       "        text-align: right;\n",
       "    }\n",
       "</style>\n",
       "<table border=\"1\" class=\"dataframe\">\n",
       "  <thead>\n",
       "    <tr style=\"text-align: right;\">\n",
       "      <th></th>\n",
       "      <th>TEST_CNT</th>\n",
       "      <th>CENTER_NM</th>\n",
       "      <th>AGE_GBN</th>\n",
       "      <th>TEST_GBN</th>\n",
       "      <th>TEST_AGE</th>\n",
       "      <th>INPUT_GBN</th>\n",
       "      <th>CERT_GBN</th>\n",
       "      <th>TEST_YMD</th>\n",
       "      <th>TEST_SEX</th>\n",
       "      <th>age</th>\n",
       "    </tr>\n",
       "  </thead>\n",
       "  <tbody>\n",
       "    <tr>\n",
       "      <th>0</th>\n",
       "      <td>1</td>\n",
       "      <td>금천</td>\n",
       "      <td>성인</td>\n",
       "      <td>일반</td>\n",
       "      <td>25</td>\n",
       "      <td>관리자</td>\n",
       "      <td>참가상</td>\n",
       "      <td>20190902</td>\n",
       "      <td>F</td>\n",
       "      <td>20.0</td>\n",
       "    </tr>\n",
       "    <tr>\n",
       "      <th>7</th>\n",
       "      <td>1</td>\n",
       "      <td>금천</td>\n",
       "      <td>성인</td>\n",
       "      <td>일반</td>\n",
       "      <td>36</td>\n",
       "      <td>관리자</td>\n",
       "      <td>참가상</td>\n",
       "      <td>20190902</td>\n",
       "      <td>F</td>\n",
       "      <td>30.0</td>\n",
       "    </tr>\n",
       "    <tr>\n",
       "      <th>8</th>\n",
       "      <td>2</td>\n",
       "      <td>동작</td>\n",
       "      <td>노인</td>\n",
       "      <td>일반</td>\n",
       "      <td>76</td>\n",
       "      <td>관리자</td>\n",
       "      <td>동상</td>\n",
       "      <td>20190902</td>\n",
       "      <td>M</td>\n",
       "      <td>60.0</td>\n",
       "    </tr>\n",
       "    <tr>\n",
       "      <th>9</th>\n",
       "      <td>1</td>\n",
       "      <td>금천</td>\n",
       "      <td>성인</td>\n",
       "      <td>일반</td>\n",
       "      <td>25</td>\n",
       "      <td>관리자</td>\n",
       "      <td>동상</td>\n",
       "      <td>20190902</td>\n",
       "      <td>M</td>\n",
       "      <td>20.0</td>\n",
       "    </tr>\n",
       "    <tr>\n",
       "      <th>12</th>\n",
       "      <td>2</td>\n",
       "      <td>성동</td>\n",
       "      <td>성인</td>\n",
       "      <td>일반</td>\n",
       "      <td>56</td>\n",
       "      <td>관리자</td>\n",
       "      <td>참가상</td>\n",
       "      <td>20190902</td>\n",
       "      <td>F</td>\n",
       "      <td>50.0</td>\n",
       "    </tr>\n",
       "  </tbody>\n",
       "</table>\n",
       "</div>"
      ],
      "text/plain": [
       "    TEST_CNT CENTER_NM AGE_GBN TEST_GBN  TEST_AGE INPUT_GBN CERT_GBN  \\\n",
       "0          1        금천      성인       일반        25       관리자      참가상   \n",
       "7          1        금천      성인       일반        36       관리자      참가상   \n",
       "8          2        동작      노인       일반        76       관리자       동상   \n",
       "9          1        금천      성인       일반        25       관리자       동상   \n",
       "12         2        성동      성인       일반        56       관리자      참가상   \n",
       "\n",
       "    TEST_YMD TEST_SEX   age  \n",
       "0   20190902        F  20.0  \n",
       "7   20190902        F  30.0  \n",
       "8   20190902        M  60.0  \n",
       "9   20190902        M  20.0  \n",
       "12  20190902        F  50.0  "
      ]
     },
     "execution_count": 85,
     "metadata": {},
     "output_type": "execute_result"
    }
   ],
   "source": [
    "seoul_on.head()"
   ]
  },
  {
   "cell_type": "code",
   "execution_count": 86,
   "metadata": {
    "ExecuteTime": {
     "end_time": "2020-10-06T08:06:16.971276Z",
     "start_time": "2020-10-06T08:06:16.961489Z"
    }
   },
   "outputs": [
    {
     "data": {
      "text/plain": [
       "(8337, 10)"
      ]
     },
     "execution_count": 86,
     "metadata": {},
     "output_type": "execute_result"
    }
   ],
   "source": [
    "seoul_on.shape"
   ]
  },
  {
   "cell_type": "code",
   "execution_count": 89,
   "metadata": {
    "ExecuteTime": {
     "end_time": "2020-10-06T08:08:06.089347Z",
     "start_time": "2020-10-06T08:08:05.473413Z"
    }
   },
   "outputs": [
    {
     "data": {
      "text/plain": [
       "Text(0.5, 1.0, '서울 내 나이 분포')"
      ]
     },
     "execution_count": 89,
     "metadata": {},
     "output_type": "execute_result"
    },
    {
     "data": {
      "image/png": "[encoded data removed]",
      "text/plain": [
       "<Figure size 864x360 with 1 Axes>"
      ]
     },
     "metadata": {
      "needs_background": "light"
     },
     "output_type": "display_data"
    }
   ],
   "source": [
    "plt.figure(figsize=(12, 5))\n",
    "sns.countplot(x = 'CENTER_NM', hue = 'AGE_GBN', data = seoul_on).set_title('서울 내 나이 분포')"
   ]
  },
  {
   "cell_type": "code",
   "execution_count": 91,
   "metadata": {
    "ExecuteTime": {
     "end_time": "2020-10-06T08:12:53.696048Z",
     "start_time": "2020-10-06T08:12:53.672940Z"
    }
   },
   "outputs": [
    {
     "data": {
      "text/plain": [
       "오산     1217\n",
       "성동     1091\n",
       "서초      904\n",
       "의정부     902\n",
       "화성      901\n",
       "마포      869\n",
       "부천      687\n",
       "금천      603\n",
       "동작      553\n",
       "노원      323\n",
       "성남      287\n",
       "Name: CENTER_NM, dtype: int64"
      ]
     },
     "execution_count": 91,
     "metadata": {},
     "output_type": "execute_result"
    }
   ],
   "source": [
    "seoul_on['CENTER_NM'].value_counts()"
   ]
  },
  {
   "cell_type": "code",
   "execution_count": 90,
   "metadata": {
    "ExecuteTime": {
     "end_time": "2020-10-06T08:09:24.301675Z",
     "start_time": "2020-10-06T08:09:23.805478Z"
    }
   },
   "outputs": [
    {
     "data": {
      "text/plain": [
       "Text(0.5, 1.0, '서울 내 나이 분포')"
      ]
     },
     "execution_count": 90,
     "metadata": {},
     "output_type": "execute_result"
    },
    {
     "data": {
      "image/png": "[encoded data removed]",
      "text/plain": [
       "<Figure size 864x360 with 1 Axes>"
      ]
     },
     "metadata": {
      "needs_background": "light"
     },
     "output_type": "display_data"
    }
   ],
   "source": [
    "plt.figure(figsize=(12, 5))\n",
    "sns.countplot(x = 'CENTER_NM', hue = 'TEST_SEX', data = seoul_on).set_title('서울 내 나이 분포')"
   ]
  },
  {
   "cell_type": "code",
   "execution_count": null,
   "metadata": {},
   "outputs": [],
   "source": []
  },
  {
   "cell_type": "markdown",
   "metadata": {},
   "source": [
    "# 코로나 -202008 측정보기"
   ]
  },
  {
   "cell_type": "code",
   "execution_count": 61,
   "metadata": {
    "ExecuteTime": {
     "end_time": "2020-10-06T06:27:11.813633Z",
     "start_time": "2020-10-06T06:27:11.760511Z"
    }
   },
   "outputs": [
    {
     "name": "stdout",
     "output_type": "stream",
     "text": [
      "<class 'pandas.core.frame.DataFrame'>\n",
      "RangeIndex: 9330 entries, 0 to 9329\n",
      "Data columns (total 9 columns):\n",
      " #   Column     Non-Null Count  Dtype \n",
      "---  ------     --------------  ----- \n",
      " 0   TEST_CNT   9330 non-null   int64 \n",
      " 1   CENTER_NM  9330 non-null   object\n",
      " 2   AGE_GBN    9330 non-null   object\n",
      " 3   TEST_GBN   9330 non-null   object\n",
      " 4   TEST_AGE   9330 non-null   int64 \n",
      " 5   INPUT_GBN  8722 non-null   object\n",
      " 6   CERT_GBN   9330 non-null   object\n",
      " 7   TEST_YMD   9330 non-null   int64 \n",
      " 8   TEST_SEX   9330 non-null   object\n",
      "dtypes: int64(3), object(6)\n",
      "memory usage: 656.1+ KB\n"
     ]
    }
   ],
   "source": [
    "df = pd.read_csv('data/코로나_체력측정_202008.csv')\n",
    "df.info()"
   ]
  },
  {
   "cell_type": "code",
   "execution_count": 62,
   "metadata": {
    "ExecuteTime": {
     "end_time": "2020-10-06T06:27:25.859362Z",
     "start_time": "2020-10-06T06:27:25.797819Z"
    }
   },
   "outputs": [
    {
     "name": "stdout",
     "output_type": "stream",
     "text": [
      "청소년 수는 2836 입니다\n",
      "20대 수는 1911 입니다\n",
      "30대 수는 1381 입니다\n",
      "40대 수는 1072 입니다\n",
      "50대 수는 748 입니다\n",
      "60대 이상(노인) 수는 563 입니다\n"
     ]
    },
    {
     "data": {
      "text/html": [
       "<div>\n",
       "<style scoped>\n",
       "    .dataframe tbody tr th:only-of-type {\n",
       "        vertical-align: middle;\n",
       "    }\n",
       "\n",
       "    .dataframe tbody tr th {\n",
       "        vertical-align: top;\n",
       "    }\n",
       "\n",
       "    .dataframe thead th {\n",
       "        text-align: right;\n",
       "    }\n",
       "</style>\n",
       "<table border=\"1\" class=\"dataframe\">\n",
       "  <thead>\n",
       "    <tr style=\"text-align: right;\">\n",
       "      <th></th>\n",
       "      <th>number</th>\n",
       "    </tr>\n",
       "  </thead>\n",
       "  <tbody>\n",
       "    <tr>\n",
       "      <th>Teenager</th>\n",
       "      <td>2836</td>\n",
       "    </tr>\n",
       "    <tr>\n",
       "      <th>20s</th>\n",
       "      <td>1911</td>\n",
       "    </tr>\n",
       "    <tr>\n",
       "      <th>30s</th>\n",
       "      <td>1381</td>\n",
       "    </tr>\n",
       "    <tr>\n",
       "      <th>40s</th>\n",
       "      <td>1072</td>\n",
       "    </tr>\n",
       "    <tr>\n",
       "      <th>50s</th>\n",
       "      <td>748</td>\n",
       "    </tr>\n",
       "    <tr>\n",
       "      <th>old</th>\n",
       "      <td>563</td>\n",
       "    </tr>\n",
       "  </tbody>\n",
       "</table>\n",
       "</div>"
      ],
      "text/plain": [
       "         number\n",
       "Teenager   2836\n",
       "20s        1911\n",
       "30s        1381\n",
       "40s        1072\n",
       "50s         748\n",
       "old         563"
      ]
     },
     "execution_count": 62,
     "metadata": {},
     "output_type": "execute_result"
    }
   ],
   "source": [
    "age_classification(df)"
   ]
  },
  {
   "cell_type": "code",
   "execution_count": 64,
   "metadata": {
    "ExecuteTime": {
     "end_time": "2020-10-06T06:30:30.119302Z",
     "start_time": "2020-10-06T06:30:30.051716Z"
    }
   },
   "outputs": [
    {
     "name": "stdout",
     "output_type": "stream",
     "text": [
      "청소년 수는 8192 입니다\n",
      "20대 수는 8580 입니다\n",
      "30대 수는 1339 입니다\n",
      "40대 수는 1293 입니다\n",
      "50대 수는 1723 입니다\n",
      "60대 이상(노인) 수는 6019 입니다\n"
     ]
    },
    {
     "data": {
      "text/html": [
       "<div>\n",
       "<style scoped>\n",
       "    .dataframe tbody tr th:only-of-type {\n",
       "        vertical-align: middle;\n",
       "    }\n",
       "\n",
       "    .dataframe tbody tr th {\n",
       "        vertical-align: top;\n",
       "    }\n",
       "\n",
       "    .dataframe thead th {\n",
       "        text-align: right;\n",
       "    }\n",
       "</style>\n",
       "<table border=\"1\" class=\"dataframe\">\n",
       "  <thead>\n",
       "    <tr style=\"text-align: right;\">\n",
       "      <th></th>\n",
       "      <th>number</th>\n",
       "    </tr>\n",
       "  </thead>\n",
       "  <tbody>\n",
       "    <tr>\n",
       "      <th>Teenager</th>\n",
       "      <td>8192</td>\n",
       "    </tr>\n",
       "    <tr>\n",
       "      <th>20s</th>\n",
       "      <td>8580</td>\n",
       "    </tr>\n",
       "    <tr>\n",
       "      <th>30s</th>\n",
       "      <td>1339</td>\n",
       "    </tr>\n",
       "    <tr>\n",
       "      <th>40s</th>\n",
       "      <td>1293</td>\n",
       "    </tr>\n",
       "    <tr>\n",
       "      <th>50s</th>\n",
       "      <td>1723</td>\n",
       "    </tr>\n",
       "    <tr>\n",
       "      <th>old</th>\n",
       "      <td>6019</td>\n",
       "    </tr>\n",
       "  </tbody>\n",
       "</table>\n",
       "</div>"
      ],
      "text/plain": [
       "         number\n",
       "Teenager   8192\n",
       "20s        8580\n",
       "30s        1339\n",
       "40s        1293\n",
       "50s        1723\n",
       "old        6019"
      ]
     },
     "execution_count": 64,
     "metadata": {},
     "output_type": "execute_result"
    }
   ],
   "source": [
    "age_classification(fit_9)"
   ]
  },
  {
   "cell_type": "code",
   "execution_count": 66,
   "metadata": {
    "ExecuteTime": {
     "end_time": "2020-10-06T06:41:40.806430Z",
     "start_time": "2020-10-06T06:41:40.789358Z"
    }
   },
   "outputs": [
    {
     "name": "stdout",
     "output_type": "stream",
     "text": [
      "1551\n",
      "360\n"
     ]
    }
   ],
   "source": [
    "print(len(df[(df['TEST_AGE'] >= 20) & (df['TEST_AGE'] <=27)] ))\n",
    "print(len(df[(df['TEST_AGE'] >= 28) & (df['TEST_AGE'] <30)] ))"
   ]
  },
  {
   "cell_type": "code",
   "execution_count": 67,
   "metadata": {
    "ExecuteTime": {
     "end_time": "2020-10-06T06:42:27.806578Z",
     "start_time": "2020-10-06T06:42:27.780518Z"
    }
   },
   "outputs": [
    {
     "data": {
      "text/plain": [
       "20    585\n",
       "21    177\n",
       "27    166\n",
       "25    161\n",
       "26    160\n",
       "24    110\n",
       "22    105\n",
       "23     87\n",
       "Name: TEST_AGE, dtype: int64"
      ]
     },
     "execution_count": 67,
     "metadata": {},
     "output_type": "execute_result"
    }
   ],
   "source": [
    "army = df[(df['TEST_AGE'] >= 20) & (df['TEST_AGE'] <=27)] \n",
    "army['TEST_AGE'].value_counts()"
   ]
  },
  {
   "cell_type": "code",
   "execution_count": 69,
   "metadata": {
    "ExecuteTime": {
     "end_time": "2020-10-06T06:56:46.886472Z",
     "start_time": "2020-10-06T06:56:46.870059Z"
    }
   },
   "outputs": [
    {
     "data": {
      "text/plain": [
       "0.6027867095391212"
      ]
     },
     "execution_count": 69,
     "metadata": {},
     "output_type": "execute_result"
    }
   ],
   "source": [
    "len(df[df['TEST_GBN']=='출장']) / len(df['TEST_GBN'])"
   ]
  },
  {
   "cell_type": "code",
   "execution_count": 70,
   "metadata": {
    "ExecuteTime": {
     "end_time": "2020-10-06T06:57:02.863264Z",
     "start_time": "2020-10-06T06:57:02.846716Z"
    }
   },
   "outputs": [
    {
     "data": {
      "text/plain": [
       "5624"
      ]
     },
     "execution_count": 70,
     "metadata": {},
     "output_type": "execute_result"
    }
   ],
   "source": [
    "len(df[df['TEST_GBN']=='출장']) "
   ]
  },
  {
   "cell_type": "code",
   "execution_count": 71,
   "metadata": {
    "ExecuteTime": {
     "end_time": "2020-10-06T06:57:06.746956Z",
     "start_time": "2020-10-06T06:57:06.729603Z"
    }
   },
   "outputs": [
    {
     "data": {
      "text/plain": [
       "3706"
      ]
     },
     "execution_count": 71,
     "metadata": {},
     "output_type": "execute_result"
    }
   ],
   "source": [
    "len(df[df['TEST_GBN']=='일반']) "
   ]
  },
  {
   "cell_type": "code",
   "execution_count": null,
   "metadata": {},
   "outputs": [],
   "source": []
  }
 ],
 "metadata": {
  "hide_input": false,
  "kernelspec": {
   "display_name": "Python 3",
   "language": "python",
   "name": "python3"
  },
  "language_info": {
   "codemirror_mode": {
    "name": "ipython",
    "version": 3
   },
   "file_extension": ".py",
   "mimetype": "text/x-python",
   "name": "python",
   "nbconvert_exporter": "python",
   "pygments_lexer": "ipython3",
   "version": "3.7.6"
  },
  "toc": {
   "base_numbering": 1,
   "nav_menu": {},
   "number_sections": true,
   "sideBar": true,
   "skip_h1_title": false,
   "title_cell": "Table of Contents",
   "title_sidebar": "Contents",
   "toc_cell": false,
   "toc_position": {},
   "toc_section_display": true,
   "toc_window_display": false
  },
  "varInspector": {
   "cols": {
    "lenName": 16,
    "lenType": 16,
    "lenVar": 40
   },
   "kernels_config": {
    "python": {
     "delete_cmd_postfix": "",
     "delete_cmd_prefix": "del ",
     "library": "var_list.py",
     "varRefreshCmd": "print(var_dic_list())"
    },
    "r": {
     "delete_cmd_postfix": ") ",
     "delete_cmd_prefix": "rm(",
     "library": "var_list.r",
     "varRefreshCmd": "cat(var_dic_list()) "
    }
   },
   "types_to_exclude": [
    "module",
    "function",
    "builtin_function_or_method",
    "instance",
    "_Feature"
   ],
   "window_display": false
  }
 },
 "nbformat": 4,
 "nbformat_minor": 4
}
